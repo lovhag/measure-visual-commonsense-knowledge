{
 "cells": [
  {
   "cell_type": "markdown",
   "metadata": {},
   "source": [
    "# Get plots on Visual Property Norms results\n"
   ]
  },
  {
   "cell_type": "markdown",
   "metadata": {},
   "source": [
    "This notebook also contains the code for generating the plots presented in the article. See the last part."
   ]
  },
  {
   "cell_type": "code",
   "execution_count": 1,
   "metadata": {},
   "outputs": [],
   "source": [
    "import numpy as np\n",
    "import pandas as pd\n",
    "import seaborn as sns\n",
    "import matplotlib.pyplot as plt\n",
    "import ast"
   ]
  },
  {
   "cell_type": "code",
   "execution_count": 2,
   "metadata": {},
   "outputs": [],
   "source": [
    "RESULTS_FILE = \"data/results/results.csv\"\n",
    "load_results = True\n",
    "if load_results:\n",
    "    results = pd.read_csv(RESULTS_FILE)"
   ]
  },
  {
   "cell_type": "code",
   "execution_count": 3,
   "metadata": {},
   "outputs": [],
   "source": [
    "results[\"top10_preds\"] = results.top10_preds.apply(ast.literal_eval)\n",
    "results[\"gold_labels\"] = results.gold_labels.apply(ast.literal_eval)"
   ]
  },
  {
   "cell_type": "code",
   "execution_count": 4,
   "metadata": {},
   "outputs": [
    {
     "data": {
      "text/html": [
       "<div>\n",
       "<style scoped>\n",
       "    .dataframe tbody tr th:only-of-type {\n",
       "        vertical-align: middle;\n",
       "    }\n",
       "\n",
       "    .dataframe tbody tr th {\n",
       "        vertical-align: top;\n",
       "    }\n",
       "\n",
       "    .dataframe thead th {\n",
       "        text-align: right;\n",
       "    }\n",
       "</style>\n",
       "<table border=\"1\" class=\"dataframe\">\n",
       "  <thead>\n",
       "    <tr style=\"text-align: right;\">\n",
       "      <th></th>\n",
       "      <th>model</th>\n",
       "      <th>concept</th>\n",
       "      <th>query_template</th>\n",
       "      <th>feature_starter</th>\n",
       "      <th>pf</th>\n",
       "      <th>score</th>\n",
       "      <th>masked_score</th>\n",
       "      <th>nbr_alternatives</th>\n",
       "      <th>top10_preds</th>\n",
       "      <th>gold_labels</th>\n",
       "    </tr>\n",
       "  </thead>\n",
       "  <tbody>\n",
       "    <tr>\n",
       "      <th>0</th>\n",
       "      <td>bert-base-uncased</td>\n",
       "      <td>accordion</td>\n",
       "      <td>describe the properties of [DESCRIPTOR] [CONCE...</td>\n",
       "      <td>has</td>\n",
       "      <td>10</td>\n",
       "      <td>0.500000</td>\n",
       "      <td>0.500000</td>\n",
       "      <td>1</td>\n",
       "      <td>[strings, keys, features, characteristics, par...</td>\n",
       "      <td>[keys]</td>\n",
       "    </tr>\n",
       "    <tr>\n",
       "      <th>1</th>\n",
       "      <td>bert-base-uncased</td>\n",
       "      <td>aeroplane</td>\n",
       "      <td>describe the properties of [DESCRIPTOR] [CONCE...</td>\n",
       "      <td>has</td>\n",
       "      <td>10</td>\n",
       "      <td>1.000000</td>\n",
       "      <td>1.000000</td>\n",
       "      <td>1</td>\n",
       "      <td>[wings, characteristics, wheels, features, pro...</td>\n",
       "      <td>[wings]</td>\n",
       "    </tr>\n",
       "    <tr>\n",
       "      <th>2</th>\n",
       "      <td>bert-base-uncased</td>\n",
       "      <td>aeroplane</td>\n",
       "      <td>describe the properties of [DESCRIPTOR] [CONCE...</td>\n",
       "      <td>is made of</td>\n",
       "      <td>10</td>\n",
       "      <td>0.500000</td>\n",
       "      <td>0.500000</td>\n",
       "      <td>1</td>\n",
       "      <td>[wood, metal, rubber, steel, aluminium, glass,...</td>\n",
       "      <td>[metal]</td>\n",
       "    </tr>\n",
       "    <tr>\n",
       "      <th>3</th>\n",
       "      <td>bert-base-uncased</td>\n",
       "      <td>alligator</td>\n",
       "      <td>describe the properties of [DESCRIPTOR] [CONCE...</td>\n",
       "      <td>has</td>\n",
       "      <td>10</td>\n",
       "      <td>0.522222</td>\n",
       "      <td>0.535714</td>\n",
       "      <td>2</td>\n",
       "      <td>[teeth, legs, claws, lungs, eyes, wings, muscl...</td>\n",
       "      <td>[teeth, scales]</td>\n",
       "    </tr>\n",
       "    <tr>\n",
       "      <th>4</th>\n",
       "      <td>bert-base-uncased</td>\n",
       "      <td>alligator</td>\n",
       "      <td>describe the properties of [DESCRIPTOR] [CONCE...</td>\n",
       "      <td>has a</td>\n",
       "      <td>10</td>\n",
       "      <td>1.000000</td>\n",
       "      <td>1.000000</td>\n",
       "      <td>1</td>\n",
       "      <td>[tail, mouth, head, stomach, brain, nose, neck...</td>\n",
       "      <td>[tail]</td>\n",
       "    </tr>\n",
       "    <tr>\n",
       "      <th>...</th>\n",
       "      <td>...</td>\n",
       "      <td>...</td>\n",
       "      <td>...</td>\n",
       "      <td>...</td>\n",
       "      <td>...</td>\n",
       "      <td>...</td>\n",
       "      <td>...</td>\n",
       "      <td>...</td>\n",
       "      <td>...</td>\n",
       "      <td>...</td>\n",
       "    </tr>\n",
       "    <tr>\n",
       "      <th>467122</th>\n",
       "      <td>bert-base-trained-lxmert-scratch</td>\n",
       "      <td>yoyo</td>\n",
       "      <td>describe the properties of [DESCRIPTOR] [CONCE...</td>\n",
       "      <td>is</td>\n",
       "      <td>5</td>\n",
       "      <td>0.013040</td>\n",
       "      <td>0.074176</td>\n",
       "      <td>2</td>\n",
       "      <td>[visible, written, shown, pictured, seen, here...</td>\n",
       "      <td>[round, small]</td>\n",
       "    </tr>\n",
       "    <tr>\n",
       "      <th>467123</th>\n",
       "      <td>bert-base-trained-lxmert-scratch</td>\n",
       "      <td>yoyo</td>\n",
       "      <td>describe the properties of [DESCRIPTOR] [CONCE...</td>\n",
       "      <td>is made of</td>\n",
       "      <td>5</td>\n",
       "      <td>0.387302</td>\n",
       "      <td>0.805556</td>\n",
       "      <td>3</td>\n",
       "      <td>[cake, rice, wood, bread, metal, potatoes, pla...</td>\n",
       "      <td>[plastic, wood, metal]</td>\n",
       "    </tr>\n",
       "    <tr>\n",
       "      <th>467124</th>\n",
       "      <td>bert-base-trained-lxmert-scratch</td>\n",
       "      <td>zebra</td>\n",
       "      <td>describe the properties of [DESCRIPTOR] [CONCE...</td>\n",
       "      <td>has</td>\n",
       "      <td>5</td>\n",
       "      <td>0.097222</td>\n",
       "      <td>0.211111</td>\n",
       "      <td>2</td>\n",
       "      <td>[stripes, horns, shaved, escaped, fallen, stri...</td>\n",
       "      <td>[legs, hooves]</td>\n",
       "    </tr>\n",
       "    <tr>\n",
       "      <th>467125</th>\n",
       "      <td>bert-base-trained-lxmert-scratch</td>\n",
       "      <td>zebra</td>\n",
       "      <td>describe the properties of [DESCRIPTOR] [CONCE...</td>\n",
       "      <td>has a</td>\n",
       "      <td>5</td>\n",
       "      <td>0.583333</td>\n",
       "      <td>1.000000</td>\n",
       "      <td>2</td>\n",
       "      <td>[mohawk, tail, mane, head, nose, stripe, shado...</td>\n",
       "      <td>[tail, mane]</td>\n",
       "    </tr>\n",
       "    <tr>\n",
       "      <th>467126</th>\n",
       "      <td>bert-base-trained-lxmert-scratch</td>\n",
       "      <td>zebra</td>\n",
       "      <td>describe the properties of [DESCRIPTOR] [CONCE...</td>\n",
       "      <td>is</td>\n",
       "      <td>5</td>\n",
       "      <td>0.114922</td>\n",
       "      <td>0.755376</td>\n",
       "      <td>4</td>\n",
       "      <td>[seen, pictured, grazing, visible, shown, eati...</td>\n",
       "      <td>[striped, black, white, fast]</td>\n",
       "    </tr>\n",
       "  </tbody>\n",
       "</table>\n",
       "<p>467127 rows × 10 columns</p>\n",
       "</div>"
      ],
      "text/plain": [
       "                                   model    concept  \\\n",
       "0                      bert-base-uncased  accordion   \n",
       "1                      bert-base-uncased  aeroplane   \n",
       "2                      bert-base-uncased  aeroplane   \n",
       "3                      bert-base-uncased  alligator   \n",
       "4                      bert-base-uncased  alligator   \n",
       "...                                  ...        ...   \n",
       "467122  bert-base-trained-lxmert-scratch       yoyo   \n",
       "467123  bert-base-trained-lxmert-scratch       yoyo   \n",
       "467124  bert-base-trained-lxmert-scratch      zebra   \n",
       "467125  bert-base-trained-lxmert-scratch      zebra   \n",
       "467126  bert-base-trained-lxmert-scratch      zebra   \n",
       "\n",
       "                                           query_template feature_starter  pf  \\\n",
       "0       describe the properties of [DESCRIPTOR] [CONCE...             has  10   \n",
       "1       describe the properties of [DESCRIPTOR] [CONCE...             has  10   \n",
       "2       describe the properties of [DESCRIPTOR] [CONCE...      is made of  10   \n",
       "3       describe the properties of [DESCRIPTOR] [CONCE...             has  10   \n",
       "4       describe the properties of [DESCRIPTOR] [CONCE...           has a  10   \n",
       "...                                                   ...             ...  ..   \n",
       "467122  describe the properties of [DESCRIPTOR] [CONCE...              is   5   \n",
       "467123  describe the properties of [DESCRIPTOR] [CONCE...      is made of   5   \n",
       "467124  describe the properties of [DESCRIPTOR] [CONCE...             has   5   \n",
       "467125  describe the properties of [DESCRIPTOR] [CONCE...           has a   5   \n",
       "467126  describe the properties of [DESCRIPTOR] [CONCE...              is   5   \n",
       "\n",
       "           score  masked_score  nbr_alternatives  \\\n",
       "0       0.500000      0.500000                 1   \n",
       "1       1.000000      1.000000                 1   \n",
       "2       0.500000      0.500000                 1   \n",
       "3       0.522222      0.535714                 2   \n",
       "4       1.000000      1.000000                 1   \n",
       "...          ...           ...               ...   \n",
       "467122  0.013040      0.074176                 2   \n",
       "467123  0.387302      0.805556                 3   \n",
       "467124  0.097222      0.211111                 2   \n",
       "467125  0.583333      1.000000                 2   \n",
       "467126  0.114922      0.755376                 4   \n",
       "\n",
       "                                              top10_preds  \\\n",
       "0       [strings, keys, features, characteristics, par...   \n",
       "1       [wings, characteristics, wheels, features, pro...   \n",
       "2       [wood, metal, rubber, steel, aluminium, glass,...   \n",
       "3       [teeth, legs, claws, lungs, eyes, wings, muscl...   \n",
       "4       [tail, mouth, head, stomach, brain, nose, neck...   \n",
       "...                                                   ...   \n",
       "467122  [visible, written, shown, pictured, seen, here...   \n",
       "467123  [cake, rice, wood, bread, metal, potatoes, pla...   \n",
       "467124  [stripes, horns, shaved, escaped, fallen, stri...   \n",
       "467125  [mohawk, tail, mane, head, nose, stripe, shado...   \n",
       "467126  [seen, pictured, grazing, visible, shown, eati...   \n",
       "\n",
       "                          gold_labels  \n",
       "0                              [keys]  \n",
       "1                             [wings]  \n",
       "2                             [metal]  \n",
       "3                     [teeth, scales]  \n",
       "4                              [tail]  \n",
       "...                               ...  \n",
       "467122                 [round, small]  \n",
       "467123         [plastic, wood, metal]  \n",
       "467124                 [legs, hooves]  \n",
       "467125                   [tail, mane]  \n",
       "467126  [striped, black, white, fast]  \n",
       "\n",
       "[467127 rows x 10 columns]"
      ]
     },
     "execution_count": 4,
     "metadata": {},
     "output_type": "execute_result"
    }
   ],
   "source": [
    "results"
   ]
  },
  {
   "cell_type": "code",
   "execution_count": 5,
   "metadata": {},
   "outputs": [
    {
     "data": {
      "text/plain": [
       "array(['bert-base-uncased', 'bert-base-trained', 'clip-bert-regress',\n",
       "       'clip-bert', 'visualbert-vqa-coco', 'lxmert-base-uncased',\n",
       "       'random-baseline', 'bert-base-trained-lxmert',\n",
       "       'bert-base-trained-lxmert-scratch'], dtype=object)"
      ]
     },
     "execution_count": 5,
     "metadata": {},
     "output_type": "execute_result"
    }
   ],
   "source": [
    "results.model.unique()"
   ]
  },
  {
   "cell_type": "code",
   "execution_count": 6,
   "metadata": {},
   "outputs": [],
   "source": [
    "RENAMES = {\"bert-base-uncased\": \"BERT-base\",\n",
    "           \"clip-bert\": \"CLIP-BERT-implicit\",\n",
    "           \"clip-bert-regress\": \"CLIP-BERT-explicit\",\n",
    "           \"bert-base-trained\": \"BERT-CLIP-BERT-train\",\n",
    "           \"lxmert-base-uncased\": \"LXMERT-base\",\n",
    "           \"bert-base-trained-lxmert\": \"BERT-LXMERT-train\",\n",
    "           \"bert-base-trained-lxmert-scratch\": \"BERT-LXMERT-train-scratch\",\n",
    "           \"visualbert-vqa-coco\": \"VisualBERT\",\n",
    "           \"random-baseline\": \"Random\",\n",
    "          }\n",
    "\n",
    "ORDER = [\"CLIP-BERT-implicit\",\n",
    "         \"CLIP-BERT-explicit\",\n",
    "         \"LXMERT-base\",\n",
    "         \"VisualBERT\",\n",
    "         \"BERT-base\",\n",
    "         \"BERT-CLIP-BERT-train\",\n",
    "         \"BERT-LXMERT-train\",\n",
    "         \"BERT-LXMERT-train-scratch\",\n",
    "         \"Random\"]"
   ]
  },
  {
   "cell_type": "code",
   "execution_count": 7,
   "metadata": {},
   "outputs": [],
   "source": [
    "color_vector = sns.hls_palette(20, h=0.17, s=0.7, l=0.65)\n",
    "COLORS = color_vector[-4:]+color_vector[-13:-9][::-1]+[(128/255,128/255,128/255)]"
   ]
  },
  {
   "cell_type": "code",
   "execution_count": 8,
   "metadata": {},
   "outputs": [
    {
     "data": {
      "text/html": [
       "<div>\n",
       "<style scoped>\n",
       "    .dataframe tbody tr th:only-of-type {\n",
       "        vertical-align: middle;\n",
       "    }\n",
       "\n",
       "    .dataframe tbody tr th {\n",
       "        vertical-align: top;\n",
       "    }\n",
       "\n",
       "    .dataframe thead th {\n",
       "        text-align: right;\n",
       "    }\n",
       "</style>\n",
       "<table border=\"1\" class=\"dataframe\">\n",
       "  <thead>\n",
       "    <tr style=\"text-align: right;\">\n",
       "      <th></th>\n",
       "      <th>model</th>\n",
       "      <th>concept</th>\n",
       "      <th>query_template</th>\n",
       "      <th>feature_starter</th>\n",
       "      <th>pf</th>\n",
       "      <th>score</th>\n",
       "      <th>masked_score</th>\n",
       "      <th>nbr_alternatives</th>\n",
       "      <th>top10_preds</th>\n",
       "      <th>gold_labels</th>\n",
       "    </tr>\n",
       "  </thead>\n",
       "  <tbody>\n",
       "    <tr>\n",
       "      <th>0</th>\n",
       "      <td>BERT-base</td>\n",
       "      <td>accordion</td>\n",
       "      <td>describe the properties of [DESCRIPTOR] [CONCE...</td>\n",
       "      <td>has</td>\n",
       "      <td>10</td>\n",
       "      <td>0.500000</td>\n",
       "      <td>0.500000</td>\n",
       "      <td>1</td>\n",
       "      <td>[strings, keys, features, characteristics, par...</td>\n",
       "      <td>[keys]</td>\n",
       "    </tr>\n",
       "    <tr>\n",
       "      <th>1</th>\n",
       "      <td>BERT-base</td>\n",
       "      <td>aeroplane</td>\n",
       "      <td>describe the properties of [DESCRIPTOR] [CONCE...</td>\n",
       "      <td>has</td>\n",
       "      <td>10</td>\n",
       "      <td>1.000000</td>\n",
       "      <td>1.000000</td>\n",
       "      <td>1</td>\n",
       "      <td>[wings, characteristics, wheels, features, pro...</td>\n",
       "      <td>[wings]</td>\n",
       "    </tr>\n",
       "    <tr>\n",
       "      <th>2</th>\n",
       "      <td>BERT-base</td>\n",
       "      <td>aeroplane</td>\n",
       "      <td>describe the properties of [DESCRIPTOR] [CONCE...</td>\n",
       "      <td>is made of</td>\n",
       "      <td>10</td>\n",
       "      <td>0.500000</td>\n",
       "      <td>0.500000</td>\n",
       "      <td>1</td>\n",
       "      <td>[wood, metal, rubber, steel, aluminium, glass,...</td>\n",
       "      <td>[metal]</td>\n",
       "    </tr>\n",
       "    <tr>\n",
       "      <th>3</th>\n",
       "      <td>BERT-base</td>\n",
       "      <td>alligator</td>\n",
       "      <td>describe the properties of [DESCRIPTOR] [CONCE...</td>\n",
       "      <td>has</td>\n",
       "      <td>10</td>\n",
       "      <td>0.522222</td>\n",
       "      <td>0.535714</td>\n",
       "      <td>2</td>\n",
       "      <td>[teeth, legs, claws, lungs, eyes, wings, muscl...</td>\n",
       "      <td>[teeth, scales]</td>\n",
       "    </tr>\n",
       "    <tr>\n",
       "      <th>4</th>\n",
       "      <td>BERT-base</td>\n",
       "      <td>alligator</td>\n",
       "      <td>describe the properties of [DESCRIPTOR] [CONCE...</td>\n",
       "      <td>has a</td>\n",
       "      <td>10</td>\n",
       "      <td>1.000000</td>\n",
       "      <td>1.000000</td>\n",
       "      <td>1</td>\n",
       "      <td>[tail, mouth, head, stomach, brain, nose, neck...</td>\n",
       "      <td>[tail]</td>\n",
       "    </tr>\n",
       "  </tbody>\n",
       "</table>\n",
       "</div>"
      ],
      "text/plain": [
       "       model    concept                                     query_template  \\\n",
       "0  BERT-base  accordion  describe the properties of [DESCRIPTOR] [CONCE...   \n",
       "1  BERT-base  aeroplane  describe the properties of [DESCRIPTOR] [CONCE...   \n",
       "2  BERT-base  aeroplane  describe the properties of [DESCRIPTOR] [CONCE...   \n",
       "3  BERT-base  alligator  describe the properties of [DESCRIPTOR] [CONCE...   \n",
       "4  BERT-base  alligator  describe the properties of [DESCRIPTOR] [CONCE...   \n",
       "\n",
       "  feature_starter  pf     score  masked_score  nbr_alternatives  \\\n",
       "0             has  10  0.500000      0.500000                 1   \n",
       "1             has  10  1.000000      1.000000                 1   \n",
       "2      is made of  10  0.500000      0.500000                 1   \n",
       "3             has  10  0.522222      0.535714                 2   \n",
       "4           has a  10  1.000000      1.000000                 1   \n",
       "\n",
       "                                         top10_preds      gold_labels  \n",
       "0  [strings, keys, features, characteristics, par...           [keys]  \n",
       "1  [wings, characteristics, wheels, features, pro...          [wings]  \n",
       "2  [wood, metal, rubber, steel, aluminium, glass,...          [metal]  \n",
       "3  [teeth, legs, claws, lungs, eyes, wings, muscl...  [teeth, scales]  \n",
       "4  [tail, mouth, head, stomach, brain, nose, neck...           [tail]  "
      ]
     },
     "execution_count": 8,
     "metadata": {},
     "output_type": "execute_result"
    }
   ],
   "source": [
    "results[\"model\"] = results.model.apply(lambda val: RENAMES[val])\n",
    "results.head()"
   ]
  },
  {
   "cell_type": "markdown",
   "metadata": {},
   "source": [
    "## Main plot"
   ]
  },
  {
   "cell_type": "code",
   "execution_count": 11,
   "metadata": {},
   "outputs": [
    {
     "data": {
      "image/png": "[encoded data removed]",
      "text/plain": [
       "<Figure size 468x288 with 1 Axes>"
      ]
     },
     "metadata": {
      "needs_background": "light"
     },
     "output_type": "display_data"
    }
   ],
   "source": [
    "tmp_data = results.groupby([\"model\", \"pf\", \"query_template\"]).agg({\"masked_score\": [\"mean\", \"count\"]}) #take mean over concepts and relations\n",
    "tmp_data = tmp_data.reset_index()\n",
    "tmp_data.columns = ['_'.join(col) if not col[1]==\"\" else col[0] for col in tmp_data.columns]\n",
    "tmp_data.groupby([\"model\", \"pf\"]).agg({\"masked_score_mean\": [\"mean\", \"std\", \"count\"], \"masked_score_count\": [\"mean\"]})\n",
    "\n",
    "plt.figure(figsize=(6.5,4))\n",
    "\n",
    "sns.barplot(x=\"pf\", y=\"masked_score_mean\", hue=\"model\", ci=\"sd\", hue_order=ORDER, palette=COLORS, data=tmp_data, errwidth=1.5)\n",
    "plt.legend(bbox_to_anchor=(1.05, 1), loc=2, borderaxespad=0., frameon=False)\n",
    "plt.xlabel(\"Production Frequency\")\n",
    "plt.ylabel(\"Score\")\n",
    "\n",
    "plt.savefig(\"../images/visual_property_norms_results.png\", bbox_inches='tight')\n",
    "plt.show()"
   ]
  },
  {
   "cell_type": "markdown",
   "metadata": {},
   "source": [
    "## Results per query template"
   ]
  },
  {
   "cell_type": "code",
   "execution_count": 17,
   "metadata": {},
   "outputs": [
    {
     "data": {
      "image/png": "[encoded data removed]",
      "text/plain": [
       "<Figure size 324x576 with 1 Axes>"
      ]
     },
     "metadata": {
      "needs_background": "light"
     },
     "output_type": "display_data"
    }
   ],
   "source": [
    "plt.figure(figsize=(4.5,8))\n",
    "\n",
    "tmp_data = results.copy()\n",
    "tmp_data[\"query_template\"] = tmp_data.query_template.apply(lambda val: val.replace(\"_\", \"\\_\"))\n",
    "b = sns.barplot(x=\"masked_score\", y=\"query_template\", hue=\"model\", hue_order=ORDER, palette=COLORS, data=tmp_data, orient=\"h\", ci=None)\n",
    "_, ylabels = plt.yticks()\n",
    "[ylabel.set_text(ylabel.get_text().replace(\". \", \"\\n\")) for ylabel in ylabels]\n",
    "b.set_yticklabels(ylabels, size = 7)\n",
    "plt.xlabel(\"Score\")\n",
    "plt.ylabel(\"Query template\")\n",
    "plt.tick_params(axis='y', which='major', pad=1)\n",
    "plt.legend('', frameon=False)\n",
    "\n",
    "plt.savefig(\"../images/norms_per_query_results.png\", bbox_inches='tight')\n",
    "plt.show()"
   ]
  },
  {
   "cell_type": "markdown",
   "metadata": {},
   "source": [
    "## Score per feature relation"
   ]
  },
  {
   "cell_type": "code",
   "execution_count": 18,
   "metadata": {},
   "outputs": [
    {
     "data": {
      "image/png": "[encoded data removed]",
      "text/plain": [
       "<Figure size 468x288 with 1 Axes>"
      ]
     },
     "metadata": {
      "needs_background": "light"
     },
     "output_type": "display_data"
    }
   ],
   "source": [
    "tmp_data = results.groupby([\"model\", \"pf\", \"feature_starter\", \"query_template\"]).agg({\"masked_score\": [\"mean\", \"count\"]}) #take mean over concepts\n",
    "tmp_data = tmp_data.reset_index()\n",
    "tmp_data.columns = ['_'.join(col) if not col[1]==\"\" else col[0] for col in tmp_data.columns]\n",
    "tmp_data.groupby([\"model\", \"pf\", \"feature_starter\"]).agg({\"masked_score_mean\": [\"mean\", \"std\", \"count\"], \"masked_score_count\": [\"mean\"]})\n",
    "\n",
    "plt.figure(figsize=(6.5,4))\n",
    "\n",
    "sns.barplot(x=\"feature_starter\", y=\"masked_score_mean\", hue=\"model\", ci=\"sd\", hue_order=ORDER, palette=COLORS, data=tmp_data, errwidth=1.5)\n",
    "plt.legend(bbox_to_anchor=(1.05, 1), loc=2, borderaxespad=0., frameon=False)\n",
    "plt.xlabel(\"Feature relation\")\n",
    "plt.ylabel(\"Score\")\n",
    "plt.ylim([0, 0.85])\n",
    "\n",
    "plt.savefig(\"../images/norms_per_relation_results.png\", bbox_inches='tight')\n",
    "plt.show()"
   ]
  },
  {
   "cell_type": "markdown",
   "metadata": {},
   "source": [
    "## Score for color part of normdata"
   ]
  },
  {
   "cell_type": "code",
   "execution_count": 19,
   "metadata": {},
   "outputs": [
    {
     "data": {
      "image/png": "[encoded data removed]",
      "text/plain": [
       "<Figure size 468x288 with 1 Axes>"
      ]
     },
     "metadata": {
      "needs_background": "light"
     },
     "output_type": "display_data"
    }
   ],
   "source": [
    "MEMORY_COLORS = {\"black\", \"blue\", \"brown\", \"green\", \"grey\", \"orange\", \"pink\", \"purple\", \"red\", \"white\", \"yellow\"}\n",
    "color_mask = results.gold_labels.apply(lambda val: all([val_part in MEMORY_COLORS for val_part in val]))\n",
    "\n",
    "tmp_data = results[color_mask].groupby([\"model\", \"pf\", \"query_template\"]).agg({\"masked_score\": [\"mean\", \"count\"]}) #take mean over concepts and relations\n",
    "tmp_data = tmp_data.reset_index()\n",
    "tmp_data.columns = ['_'.join(col) if not col[1]==\"\" else col[0] for col in tmp_data.columns]\n",
    "tmp_data.groupby([\"model\", \"pf\"]).agg({\"masked_score_mean\": [\"mean\", \"std\", \"count\"], \"masked_score_count\": [\"mean\"]})\n",
    "\n",
    "plt.figure(figsize=(6.5,4))\n",
    "\n",
    "sns.barplot(x=\"pf\", y=\"masked_score_mean\", hue=\"model\", data=tmp_data, ci=\"sd\", hue_order=ORDER, palette=COLORS, errwidth=1.5)\n",
    "plt.legend(bbox_to_anchor=(1.05, 1), loc=2, borderaxespad=0., frameon=False)\n",
    "plt.xlabel(\"Production Frequency\")\n",
    "plt.ylabel(\"Score\")\n",
    "\n",
    "plt.savefig(\"../images/norms_colors_results.png\", bbox_inches='tight')\n",
    "plt.show()"
   ]
  }
 ],
 "metadata": {
  "interpreter": {
   "hash": "0f5770ad77efe7ab82fb28541812678c7782e8c1b9375e05d9330e0e75c1f82d"
  },
  "kernelspec": {
   "display_name": "Python 3.8.6 ('venv': venv)",
   "language": "python",
   "name": "python3"
  },
  "language_info": {
   "codemirror_mode": {
    "name": "ipython",
    "version": 3
   },
   "file_extension": ".py",
   "mimetype": "text/x-python",
   "name": "python",
   "nbconvert_exporter": "python",
   "pygments_lexer": "ipython3",
   "version": "3.8.6"
  }
 },
 "nbformat": 4,
 "nbformat_minor": 2
}
