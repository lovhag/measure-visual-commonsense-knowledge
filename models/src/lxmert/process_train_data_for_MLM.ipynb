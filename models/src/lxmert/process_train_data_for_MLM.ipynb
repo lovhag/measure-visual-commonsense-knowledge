{
 "cells": [
  {
   "cell_type": "markdown",
   "metadata": {},
   "source": [
    "# Get text data from LXMERT pretraining data\n",
    "For bert-base-uncased text-only pre-training."
   ]
  },
  {
   "cell_type": "markdown",
   "metadata": {},
   "source": [
    "First, download the `mscoco_train.json`, `mscoco_nominival.json`, `vgnococo.json` and `mscoco_minival.json` data files as described in https://github.com/airsplay/lxmert#pre-training and put them under `models/data/lxmert`."
   ]
  },
  {
   "cell_type": "code",
   "execution_count": null,
   "metadata": {},
   "outputs": [],
   "source": [
    "%cd ../../data/lxmert"
   ]
  },
  {
   "cell_type": "code",
   "execution_count": 18,
   "metadata": {},
   "outputs": [],
   "source": [
    "import json\n",
    "import numpy as np"
   ]
  },
  {
   "cell_type": "code",
   "execution_count": 10,
   "metadata": {},
   "outputs": [],
   "source": [
    "TASKS_WITH_LABELS = {\"vqa\", \"gqa\", \"visual7w\"}\n",
    "TASK_NAMES = {\"vqa\", \"gqa\", \"visual7w\", \"mscoco\", \"vg\"}"
   ]
  },
  {
   "cell_type": "code",
   "execution_count": 51,
   "metadata": {},
   "outputs": [],
   "source": [
    "def save_mlm_text_from_lxmert_datafile(datafile, to_file):\n",
    "    with open(datafile, \"r\") as f:\n",
    "        data = json.load(f)\n",
    "\n",
    "    with open(to_file, \"a\") as f:\n",
    "        for example in data:\n",
    "            task_names = example[\"sentf\"].keys()\n",
    "            for task_name in task_names:\n",
    "                assert task_name in TASK_NAMES\n",
    "                # questions should have their answers appended\n",
    "                if task_name in TASKS_WITH_LABELS:\n",
    "                    for ex_ix, ex_part in enumerate(example[\"sentf\"][task_name]):\n",
    "                        ans_alternatives = example[\"labelf\"][task_name][ex_ix]\n",
    "                        # for some reason, some questions don't have answers in the data. skip them\n",
    "                        if len(ans_alternatives) == 0:\n",
    "                            continue\n",
    "                        best_ans = list(ans_alternatives.keys())[np.argmax(list(ans_alternatives.values()))]\n",
    "                        text = ex_part + \" \" + best_ans.capitalize()\n",
    "                        text = text.strip()\n",
    "                        if text[-1] not in {'!', '.'}:\n",
    "                            text = text + \".\"\n",
    "                        json_entry = {\"text\": text}\n",
    "                        json.dump(json_entry, f)\n",
    "                        f.write(\"\\n\")\n",
    "                # captions are just added as they are\n",
    "                else:\n",
    "                    for _, ex_part in enumerate(example[\"sentf\"][task_name]):\n",
    "                        json_entry = {\"text\": ex_part.strip()}\n",
    "                        json.dump(json_entry, f)\n",
    "                        f.write(\"\\n\")\n",
    "    \n",
    "    return"
   ]
  },
  {
   "cell_type": "code",
   "execution_count": 53,
   "metadata": {},
   "outputs": [],
   "source": [
    "OUT_FILE = \"train_mlm.jsonl\"\n",
    "open(OUT_FILE, 'w').close() #clear the file\n",
    "save_mlm_text_from_lxmert_datafile(\"mscoco_nominival.json\", OUT_FILE)\n",
    "save_mlm_text_from_lxmert_datafile(\"mscoco_train.json\", OUT_FILE)\n",
    "save_mlm_text_from_lxmert_datafile(\"vgnococo.json\", OUT_FILE)"
   ]
  },
  {
   "cell_type": "code",
   "execution_count": 54,
   "metadata": {},
   "outputs": [],
   "source": [
    "OUT_FILE = \"val_mlm.jsonl\"\n",
    "open(OUT_FILE, 'w').close() #clear the file\n",
    "save_mlm_text_from_lxmert_datafile(\"mscoco_minival.json\", OUT_FILE)"
   ]
  }
 ],
 "metadata": {
  "interpreter": {
   "hash": "d4d1e4263499bec80672ea0156c357c1ee493ec2b1c70f0acce89fc37c4a6abe"
  },
  "kernelspec": {
   "display_name": "Python 3.8.8 64-bit ('base': conda)",
   "language": "python",
   "name": "python3"
  },
  "language_info": {
   "codemirror_mode": {
    "name": "ipython",
    "version": 3
   },
   "file_extension": ".py",
   "mimetype": "text/x-python",
   "name": "python",
   "nbconvert_exporter": "python",
   "pygments_lexer": "ipython3",
   "version": "3.8.6"
  },
  "orig_nbformat": 4
 },
 "nbformat": 4,
 "nbformat_minor": 2
}
